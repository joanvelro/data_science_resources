{
 "cells": [
  {
   "cell_type": "markdown",
   "metadata": {},
   "source": [
    "In `pandas` we have several possibilities to read data and several possibilities to write data."
   ]
  },
  {
   "cell_type": "markdown",
   "metadata": {},
   "source": [
    "# Let's read some wind data"
   ]
  },
  {
   "cell_type": "markdown",
   "metadata": {},
   "source": [
    "In the *Datos* folder you can find a file *mast.txt* with the following format:"
   ]
  },
  {
   "cell_type": "markdown",
   "metadata": {},
   "source": [
    "    130904 0000  2.21  2.58 113.5   999.99 999.99  99.99 9999.99 9999.99  0.11\n",
    "    130904 0010  1.69  2.31  99.9   999.99 999.99  99.99 9999.99 9999.99  0.35\n",
    "    130904 0020  1.28  1.50  96.0   999.99 999.99  99.99 9999.99 9999.99  0.08\n",
    "    130904 0030  1.94  2.39  99.2   999.99 999.99  99.99 9999.99 9999.99  0.26\n",
    "    130904 0040  2.17  2.67 108.4   999.99 999.99  99.99 9999.99 9999.99  0.23\n",
    "    130904 0050  2.25  2.89 105.0   999.99 999.99  99.99 9999.99 9999.99  0.35\n",
    "    ...\n",
    "\n",
    "We can read in the following manner:"
   ]
  },
  {
   "cell_type": "code",
   "execution_count": null,
   "metadata": {
    "collapsed": false
   },
   "outputs": [],
   "source": [
    "# First, imports\n",
    "import os\n",
    "import datetime as dt\n",
    "\n",
    "import pandas as pd\n",
    "import numpy as np\n",
    "import matplotlib.pyplot as plt\n",
    "from IPython.display import display\n",
    "\n",
    "np.random.seed(19760812)\n",
    "%matplotlib inline"
   ]
  },
  {
   "cell_type": "code",
   "execution_count": null,
   "metadata": {
    "collapsed": false
   },
   "outputs": [],
   "source": [
    "ipath = os.path.join('Datos', 'mast.txt')\n",
    "wind = pd.read_csv(ipath)\n",
    "wind.head(3)"
   ]
  },
  {
   "cell_type": "code",
   "execution_count": null,
   "metadata": {
    "collapsed": false
   },
   "outputs": [],
   "source": [
    "wind = pd.read_csv(ipath, sep = \"\\s*\")\n",
    "# When we work with text separated by whitespaces we can use the keyword delim_whitespace:\n",
    "# wind = pd.read_csv(path, delim_whitespace = True)\n",
    "wind.head(3)"
   ]
  },
  {
   "cell_type": "code",
   "execution_count": null,
   "metadata": {
    "collapsed": false
   },
   "outputs": [],
   "source": [
    "cols = ['Date', 'time', 'wspd', 'wspd_max', 'wdir',\n",
    "        'x1', 'x2', 'x3', 'x4', 'x5', \n",
    "        'wspd_std']\n",
    "wind = pd.read_csv(ipath, sep = \"\\s*\", names = cols)\n",
    "wind.head(3)"
   ]
  },
  {
   "cell_type": "code",
   "execution_count": null,
   "metadata": {
    "collapsed": false
   },
   "outputs": [],
   "source": [
    "cols = ['Date', 'time', 'wspd', 'wspd_max', 'wdir',\n",
    "        'x1', 'x2', 'x3', 'x4', 'x5', \n",
    "        'wspd_std']\n",
    "wind = pd.read_csv(ipath, sep = \"\\s*\", names = cols,\n",
    "                   parse_dates = [[0, 1]])\n",
    "wind.head(3)"
   ]
  },
  {
   "cell_type": "markdown",
   "metadata": {},
   "source": [
    "<div class=\"alert alert-danger\">\n",
    "<p>Depending of your operative system dates can be right or not. Don't worry now about this. Later we will work on this.</p>\n",
    "</div>"
   ]
  },
  {
   "cell_type": "code",
   "execution_count": null,
   "metadata": {
    "collapsed": false
   },
   "outputs": [],
   "source": [
    "cols = ['Date', 'time', 'wspd', 'wspd_max', 'wdir',\n",
    "        'x1', 'x2', 'x3', 'x4', 'x5', \n",
    "        'wspd_std']\n",
    "wind = pd.read_csv(ipath, sep = \"\\s*\", names = cols,\n",
    "                   parse_dates = [[0, 1]], index_col = 0)\n",
    "wind.head(3)"
   ]
  },
  {
   "cell_type": "code",
   "execution_count": null,
   "metadata": {
    "collapsed": false
   },
   "outputs": [],
   "source": [
    "cols = ['Date', 'time', 'wspd', 'wspd_max', 'wdir',\n",
    "        'x1', 'x2', 'x3', 'x4', 'x5', \n",
    "        'wspd_std']\n",
    "wind = pd.read_csv(ipath, sep = \"\\s*\", names = cols,\n",
    "                   parse_dates = {'timestamp': [0, 1]}, index_col = 0)\n",
    "wind.head(3)"
   ]
  },
  {
   "cell_type": "code",
   "execution_count": null,
   "metadata": {
    "collapsed": false
   },
   "outputs": [],
   "source": [
    "# The previous code is equivalent to\n",
    "cols = ['Date', 'time', 'wspd', 'wspd_max', 'wdir',\n",
    "        'x1', 'x2', 'x3', 'x4', 'x5', \n",
    "        'wspd_std']\n",
    "wind = pd.read_csv(ipath, sep = \"\\s*\", names = cols,\n",
    "                   parse_dates = [[0, 1]], index_col = 0)\n",
    "wind.index.name = 'Timestamp'\n",
    "wind.head(3)"
   ]
  },
  {
   "cell_type": "code",
   "execution_count": null,
   "metadata": {
    "collapsed": true
   },
   "outputs": [],
   "source": [
    "# in the previous cell code you can change 0's and 1's on \n",
    "# parse_dates and index_col with the names of the columns\n",
    "# test it!!!\n"
   ]
  },
  {
   "cell_type": "code",
   "execution_count": null,
   "metadata": {
    "collapsed": false
   },
   "outputs": [],
   "source": [
    "help(pd.read_csv)"
   ]
  },
  {
   "cell_type": "markdown",
   "metadata": {},
   "source": [
    "With very few lines of code we read a text file with data separated by whitespaces, we transformed two columns to have dates and that dates are now the index (we only can have one record each time),...\n",
    "\n",
    "# ¡¡Warning!! repeated indexes\n",
    "\n",
    "<br>\n",
    "<div class=\"alert alert-danger\">\n",
    "<h3>Note:</h3>\n",
    "<p>Nothing prevents from having repeated indexes. Take care as it cn be a source of errors.</p>\n",
    "</div>"
   ]
  },
  {
   "cell_type": "code",
   "execution_count": null,
   "metadata": {
    "collapsed": false
   },
   "outputs": [],
   "source": [
    "tmp = pd.DataFrame([1,10,100, 1000], index = [1,1,2,2], columns = ['values'])"
   ]
  },
  {
   "cell_type": "code",
   "execution_count": null,
   "metadata": {
    "collapsed": false
   },
   "outputs": [],
   "source": [
    "tmp"
   ]
  },
  {
   "cell_type": "code",
   "execution_count": null,
   "metadata": {
    "collapsed": false
   },
   "outputs": [],
   "source": [
    "print(tmp['values'][1], tmp['values'][2], sep = '\\n')"
   ]
  },
  {
   "cell_type": "markdown",
   "metadata": {},
   "source": [
    "# Warning!! when you convert to dates from strings\n",
    "\n",
    "<br>\n",
    "<div class=\"alert alert-danger\">\n",
    "<h3>Note:</h3>\n",
    "<p>If you let pandas to parse the dates take care and write tests as it is easy to find errors in the <b>automagic</b> conversion.</p>\n",
    "</div>"
   ]
  },
  {
   "cell_type": "code",
   "execution_count": null,
   "metadata": {
    "collapsed": false
   },
   "outputs": [],
   "source": [
    "# An example with error in dates:\n",
    "\n",
    "index = [\n",
    "    '01/01/2015 00:00',\n",
    "    '02/01/2015 00:00',\n",
    "    '03/01/2015 00:00',\n",
    "    '04/01/2015 00:00',\n",
    "    '05/01/2015 00:00',\n",
    "    '06/01/2015 00:00',\n",
    "    '07/01/2015 00:00',\n",
    "    '08/01/2015 00:00',\n",
    "    '09/01/2015 00:00',\n",
    "    '10/01/2015 00:00',\n",
    "    '11/01/2015 00:00',\n",
    "    '12/01/2015 00:00',\n",
    "    '13/01/2015 00:00',\n",
    "    '14/01/2015 00:00',\n",
    "    '15/01/2015 00:00'\n",
    "]\n",
    "values = np.random.randn(len(index))\n",
    "\n",
    "tmp = pd.DataFrame(values, index = pd.to_datetime(index), columns = ['col1'])"
   ]
  },
  {
   "cell_type": "code",
   "execution_count": null,
   "metadata": {
    "collapsed": false
   },
   "outputs": [],
   "source": [
    "display(tmp)\n",
    "tmp.plot.line(figsize = (12, 6))"
   ]
  },
  {
   "cell_type": "markdown",
   "metadata": {},
   "source": [
    "To avoid the previous error we can write our own date parser on, for instance, `pd.read_csv`:"
   ]
  },
  {
   "cell_type": "code",
   "execution_count": null,
   "metadata": {
    "collapsed": false
   },
   "outputs": [],
   "source": [
    "import datetime as dt\n",
    "import io\n",
    "\n",
    "def dateparser(date):\n",
    "    date, time = date.split()\n",
    "    DD, MM, YY = date.split('/')\n",
    "    hh, mm = time.split(':')\n",
    "    return dt.datetime(int(YY), int(MM), int(DD), int(hh), int(mm))\n",
    "\n",
    "virtual_file = io.StringIO(\"\"\"01/01/2015 00:00, 1\n",
    "02/01/2015 00:00, 2\n",
    "03/01/2015 00:00, 3\n",
    "04/01/2015 00:00, 4\n",
    "05/01/2015 00:00, 5\n",
    "06/01/2015 00:00, 6\n",
    "07/01/2015 00:00, 7\n",
    "08/01/2015 00:00, 8\n",
    "09/01/2015 00:00, 9\n",
    "10/01/2015 00:00, 10\n",
    "11/01/2015 00:00, 11\n",
    "12/01/2015 00:00, 12\n",
    "13/01/2015 00:00, 13\n",
    "14/01/2015 00:00, 14\n",
    "15/01/2015 00:00, 15\n",
    "\"\"\")\n",
    "\n",
    "tmp_wrong = pd.read_csv(virtual_file, parse_dates = [0], index_col = 0, names = ['Date', 'values'])\n",
    "\n",
    "virtual_file = io.StringIO(\"\"\"01/01/2015 00:00, 1\n",
    "02/01/2015 00:00, 2\n",
    "03/01/2015 00:00, 3\n",
    "04/01/2015 00:00, 4\n",
    "05/01/2015 00:00, 5\n",
    "06/01/2015 00:00, 6\n",
    "07/01/2015 00:00, 7\n",
    "08/01/2015 00:00, 8\n",
    "09/01/2015 00:00, 9\n",
    "10/01/2015 00:00, 10\n",
    "11/01/2015 00:00, 11\n",
    "12/01/2015 00:00, 12\n",
    "13/01/2015 00:00, 13\n",
    "14/01/2015 00:00, 14\n",
    "15/01/2015 00:00, 15\n",
    "\"\"\")\n",
    "\n",
    "tmp_right = pd.read_csv(virtual_file, parse_dates = True, index_col = 0, names = ['Date', 'values'],\n",
    "                        date_parser = dateparser)"
   ]
  },
  {
   "cell_type": "code",
   "execution_count": null,
   "metadata": {
    "collapsed": false
   },
   "outputs": [],
   "source": [
    "display(tmp_wrong)\n",
    "display(tmp_right)"
   ]
  },
  {
   "cell_type": "markdown",
   "metadata": {},
   "source": [
    "# Let's save the result in csv format"
   ]
  },
  {
   "cell_type": "code",
   "execution_count": null,
   "metadata": {
    "collapsed": true
   },
   "outputs": [],
   "source": [
    "opath = os.path.join('Datos', 'mast_2.csv')\n",
    "#wind.to_csv(opath)\n",
    "wind.iloc[0:100].to_csv(opath)"
   ]
  },
  {
   "cell_type": "markdown",
   "metadata": {},
   "source": [
    "# ... or in json format"
   ]
  },
  {
   "cell_type": "code",
   "execution_count": null,
   "metadata": {
    "collapsed": true
   },
   "outputs": [],
   "source": [
    "#wind.to_json(opath.replace('csv', 'json'))\n",
    "wind.iloc[0:100].to_json(opath.replace('csv', 'json'))"
   ]
  },
  {
   "cell_type": "markdown",
   "metadata": {},
   "source": [
    "# ... or to an HTML table"
   ]
  },
  {
   "cell_type": "code",
   "execution_count": null,
   "metadata": {
    "collapsed": false
   },
   "outputs": [],
   "source": [
    "# Si son muchos datos no os lo recomiendo, es lento\n",
    "#wind.to_html(opath.replace('csv', 'html'))\n",
    "wind.iloc[0:100].to_html(opath.replace('csv', 'html'))"
   ]
  },
  {
   "cell_type": "markdown",
   "metadata": {},
   "source": [
    "# ... or to an xlsx format\n",
    "\n",
    "Here you should have `xlsxwriter`, `openpyxl`, `wlrd/xlwt`,..., installed."
   ]
  },
  {
   "cell_type": "code",
   "execution_count": null,
   "metadata": {
    "collapsed": false
   },
   "outputs": [],
   "source": [
    "writer = pd.ExcelWriter(opath.replace('csv', 'xlsx'))\n",
    "#wind.to_excel(writer, sheet_name= \"Mi hoja 1\")\n",
    "wind.iloc[0:100].to_excel(writer, sheet_name= \"Mi hoja 1\")\n",
    "writer.save()"
   ]
  },
  {
   "cell_type": "code",
   "execution_count": null,
   "metadata": {
    "collapsed": true
   },
   "outputs": [],
   "source": [
    "# Now that we have files with json, html, xlsx,..., formats you can practice what we have learn opening them\n",
    "# using the pd.read_* functions\n"
   ]
  }
 ],
 "metadata": {
  "kernelspec": {
   "display_name": "Python 3",
   "language": "python",
   "name": "python3"
  },
  "language_info": {
   "codemirror_mode": {
    "name": "ipython",
    "version": 3
   },
   "file_extension": ".py",
   "mimetype": "text/x-python",
   "name": "python",
   "nbconvert_exporter": "python",
   "pygments_lexer": "ipython3",
   "version": "3.5.1"
  }
 },
 "nbformat": 4,
 "nbformat_minor": 0
}
