{
 "cells": [
  {
   "cell_type": "markdown",
   "metadata": {},
   "source": [
    "Nuevamente, vamos a leer primero unos datos..."
   ]
  },
  {
   "cell_type": "markdown",
   "metadata": {},
   "source": [
    "# Lectura de un fichero de datos"
   ]
  },
  {
   "cell_type": "code",
   "execution_count": null,
   "metadata": {
    "collapsed": true
   },
   "outputs": [],
   "source": [
    "# primero hacemos los imports de turno\n",
    "import os\n",
    "import datetime as dt\n",
    "\n",
    "import pandas as pd\n",
    "import numpy as np\n",
    "import matplotlib.pyplot as plt\n",
    "from IPython.display import display\n",
    "\n",
    "np.random.seed(19760812)\n",
    "%matplotlib inline"
   ]
  },
  {
   "cell_type": "code",
   "execution_count": null,
   "metadata": {
    "collapsed": false
   },
   "outputs": [],
   "source": [
    "# Leemos los datos del fichero 'mast.txt'\n",
    "ipath = os.path.join('Datos', 'mast.txt')\n",
    "\n",
    "def dateparse(date, time):\n",
    "    YY = 2000 + int(date[:2])\n",
    "    MM = int(date[2:4])\n",
    "    DD = int(date[4:])\n",
    "    hh = int(time[:2])\n",
    "    mm = int(time[2:])\n",
    "    \n",
    "    return dt.datetime(YY, MM, DD, hh, mm, 0)\n",
    "    \n",
    "\n",
    "cols = ['Date', 'time', 'wspd', 'wspd_max', 'wdir',\n",
    "        'x1', 'x2', 'x3', 'x4', 'x5', \n",
    "        'wspd_std']\n",
    "wind = pd.read_csv(ipath, sep = \"\\s*\", names = cols, \n",
    "                   parse_dates = [[0, 1]], index_col = 0,\n",
    "                   date_parser = dateparse)"
   ]
  },
  {
   "cell_type": "markdown",
   "metadata": {},
   "source": [
    "# Seleccionando datos"
   ]
  },
  {
   "cell_type": "markdown",
   "metadata": {},
   "source": [
    "## Acceso a los valores como si fuera un numpy array"
   ]
  },
  {
   "cell_type": "markdown",
   "metadata": {},
   "source": [
    "Podemos acceder a los datos usando indexación como haríamos con un numpy array o como se hace normalmente en Python:\n",
    "\n",
    "* En Python la indexación empieza por 0 y el último elemento de la 'rebanada' (*slice*) no se incluye."
   ]
  },
  {
   "cell_type": "code",
   "execution_count": null,
   "metadata": {
    "collapsed": false
   },
   "outputs": [],
   "source": [
    "wind[0:10]"
   ]
  },
  {
   "cell_type": "markdown",
   "metadata": {},
   "source": [
    "Los índices de un numpy array solo pueden ser enteros.\n",
    "\n",
    "## Acceso a los valores mediante indexación de índices\n",
    "\n",
    "Además, a diferencia de numpy, podemos acceder por índices que no necesariamente sean enteros:"
   ]
  },
  {
   "cell_type": "code",
   "execution_count": null,
   "metadata": {
    "collapsed": false
   },
   "outputs": [],
   "source": [
    "wind['2013-09-04 00:00:00':'2013-09-04 01:30:00']"
   ]
  },
  {
   "cell_type": "markdown",
   "metadata": {},
   "source": [
    "En este segundo ejemplo la indexación se hace mediante *strings* que son la representación de los índices (etiquetas de las posiciones). Otra cosa a resaltar es que en el *slice* el último elemento SÍ se incluye."
   ]
  },
  {
   "cell_type": "markdown",
   "metadata": {},
   "source": [
    "## Selección básica de columna (`DataFrame`)"
   ]
  },
  {
   "cell_type": "markdown",
   "metadata": {},
   "source": [
    "En ejemplos anteriores, también hemos visto que podíamos seleccionar columnas usando el nombre de la columna:"
   ]
  },
  {
   "cell_type": "code",
   "execution_count": null,
   "metadata": {
    "collapsed": false
   },
   "outputs": [],
   "source": [
    "wind['wspd'].head(3)"
   ]
  },
  {
   "cell_type": "markdown",
   "metadata": {},
   "source": [
    "Depende como sean los nombres de las columnas, se puede acceder a la columna usando la notación 'de punto' (*dot notation*) pero como no siempre funciona y es propenso a errores os recomiendo no usar esta forma:"
   ]
  },
  {
   "cell_type": "code",
   "execution_count": null,
   "metadata": {
    "collapsed": false
   },
   "outputs": [],
   "source": [
    "# Esto es equivalente a lo de la celda anterior\n",
    "wind.wspd.head(3)"
   ]
  },
  {
   "cell_type": "code",
   "execution_count": null,
   "metadata": {
    "collapsed": false
   },
   "outputs": [],
   "source": [
    "# Un ejemplo de potencial error\n",
    "df1 = pd.DataFrame(np.random.randn(5,2), columns = [1, 2])\n",
    "df1"
   ]
  },
  {
   "cell_type": "code",
   "execution_count": null,
   "metadata": {
    "collapsed": false
   },
   "outputs": [],
   "source": [
    "# Esto dará error\n",
    "df1.1"
   ]
  },
  {
   "cell_type": "code",
   "execution_count": null,
   "metadata": {
    "collapsed": false
   },
   "outputs": [],
   "source": [
    "# Para que no dé error\n",
    "df1[1]"
   ]
  },
  {
   "cell_type": "markdown",
   "metadata": {},
   "source": [
    "## *Fancy indexing* con `Series`"
   ]
  },
  {
   "cell_type": "markdown",
   "metadata": {},
   "source": [
    "También se puede utilizar *Fancy indexing* con series, como si estuviéramos indexando con una lista o con un array de booleanos:"
   ]
  },
  {
   "cell_type": "code",
   "execution_count": null,
   "metadata": {
    "collapsed": false
   },
   "outputs": [],
   "source": [
    "# Creamos una serie\n",
    "wspd = wind['wspd']\n",
    "\n",
    "# Accedemos a los elementos situados en las posiciones 0, 100 y 1000\n",
    "print(wspd[[0, 100, 1000]])\n",
    "print('\\n' * 3)\n",
    "\n",
    "# Usamos los índices en las posiciones 0, 100 y 1000\n",
    "idx = wspd[[0, 100, 1000]].index\n",
    "print(idx)\n",
    "print('\\n' * 3)\n",
    "\n",
    "# Accedemos a los mismos que inicialmente pero usando los índices en lugar de \n",
    "# las posiciones de los valores\n",
    "print(wspd[idx])"
   ]
  },
  {
   "cell_type": "markdown",
   "metadata": {},
   "source": [
    "Con `DataFrame`s el *fancy indexing* puede resultar ambiguo y nos dará error de indexación."
   ]
  },
  {
   "cell_type": "code",
   "execution_count": null,
   "metadata": {
    "collapsed": true
   },
   "outputs": [],
   "source": [
    "# Intentadlo...\n"
   ]
  },
  {
   "cell_type": "markdown",
   "metadata": {},
   "source": [
    "## Indexación booleana"
   ]
  },
  {
   "cell_type": "markdown",
   "metadata": {},
   "source": [
    "Como con numpy, también podemos acceder a los valores mediante condiciones booleanas:"
   ]
  },
  {
   "cell_type": "code",
   "execution_count": null,
   "metadata": {
    "collapsed": false
   },
   "outputs": [],
   "source": [
    "idx = wind['wspd'] > 35\n",
    "wind[idx]"
   ]
  },
  {
   "cell_type": "markdown",
   "metadata": {},
   "source": [
    "Podemos encadenar diferentes condiciones. Por ejemplo, vamos a refinar el resultado anterior:"
   ]
  },
  {
   "cell_type": "code",
   "execution_count": null,
   "metadata": {
    "collapsed": false
   },
   "outputs": [],
   "source": [
    "idx = (wind['wspd'] > 35) & (wind['wdir'] > 225)\n",
    "wind[idx]"
   ]
  },
  {
   "cell_type": "markdown",
   "metadata": {},
   "source": [
    "Usando condiciones booleanas puede resultar menos legible. Desde la versión de pandas 0.13 podemos usar el método `query` para hacerlo un poco más legible."
   ]
  },
  {
   "cell_type": "code",
   "execution_count": null,
   "metadata": {
    "collapsed": false
   },
   "outputs": [],
   "source": [
    "# Para que sea más eficiente hay que tener instalado 'numexpr'\n",
    "# Que es el engine por defecto. Si no lo tenemos instalado y\n",
    "# no indicamos el engine ('python') nos dará ImportError\n",
    "wind.query('wspd > 35 and wdir > 225', engine = 'python')"
   ]
  },
  {
   "cell_type": "markdown",
   "metadata": {},
   "source": [
    "Mediante estas formas de selección pueden llegar a existir ciertas ambigüedades. Vamos a hacer un pequeño inciso para después volver a formas de selección más avanzadas."
   ]
  },
  {
   "cell_type": "markdown",
   "metadata": {},
   "source": [
    "# INCISO: Alineamiento de datos al operar con estructuras de datos de Pandas\n",
    "\n",
    "Cuando realizamos una operación entre dos estructuras de datos de Pandas se produce un efecto de alineamiento muy práctico. Veamos esto mediante ejemplos:"
   ]
  },
  {
   "cell_type": "code",
   "execution_count": null,
   "metadata": {
    "collapsed": false
   },
   "outputs": [],
   "source": [
    "s1 = pd.Series(np.arange(0,10), index = np.arange(0,10))\n",
    "s2 = pd.Series(np.arange(10,20), index = np.arange(5,15))\n",
    "print(s1)\n",
    "print(s2)"
   ]
  },
  {
   "cell_type": "markdown",
   "metadata": {},
   "source": [
    "Si ahora realizamos una operación entre ambas `Series`, donde es posible realizar la operación se realiza y en los índices donde no es posible se representan pero no desaparecen ni nos proporciona un error:"
   ]
  },
  {
   "cell_type": "code",
   "execution_count": null,
   "metadata": {
    "collapsed": false
   },
   "outputs": [],
   "source": [
    "s1 + s2"
   ]
  },
  {
   "cell_type": "markdown",
   "metadata": {},
   "source": [
    "# Volvemos a la indexación (reordenamos lo visto hasta ahora)"
   ]
  },
  {
   "cell_type": "markdown",
   "metadata": {},
   "source": [
    "Una de las características básicas de pandas es el etiquetado de filas y de columnas, ello provoca que la indexación sea más compleja que con numpy. Hemos de distinguir entre:\n",
    "\n",
    "- selección por etiqueta\n",
    "- selección por posición (numpy)"
   ]
  },
  {
   "cell_type": "markdown",
   "metadata": {},
   "source": [
    "La indexación en `Series` es más simple puesto que las etiquetas siempre se refieren a los índices ya que la columna es única. Como hemos ido viendo anteriormente de forma un poco difusa, para un `DataFrame`, la indexación básica selecciona las columnas.\n",
    "\n",
    "Para elegir una sola columna, como ya hemos visto anteriormente:"
   ]
  },
  {
   "cell_type": "code",
   "execution_count": null,
   "metadata": {
    "collapsed": false
   },
   "outputs": [],
   "source": [
    "wind['wspd_std']"
   ]
  },
  {
   "cell_type": "markdown",
   "metadata": {},
   "source": [
    "O, podemos elegir varias columnas:"
   ]
  },
  {
   "cell_type": "code",
   "execution_count": null,
   "metadata": {
    "collapsed": false
   },
   "outputs": [],
   "source": [
    "wind[['wspd', 'wspd_std']]"
   ]
  },
  {
   "cell_type": "markdown",
   "metadata": {},
   "source": [
    "Pero mediante una 'rebanada' (*slicing*) accedemos a los índices:"
   ]
  },
  {
   "cell_type": "code",
   "execution_count": null,
   "metadata": {
    "collapsed": false
   },
   "outputs": [],
   "source": [
    "wind['2015/01/01 00:00':'2015/01/01 02:00']"
   ]
  },
  {
   "cell_type": "markdown",
   "metadata": {},
   "source": [
    "Por lo que esto daría error"
   ]
  },
  {
   "cell_type": "code",
   "execution_count": null,
   "metadata": {
    "collapsed": false
   },
   "outputs": [],
   "source": [
    "wind['wspd':'wdir']"
   ]
  },
  {
   "cell_type": "code",
   "execution_count": null,
   "metadata": {
    "collapsed": false
   },
   "outputs": [],
   "source": [
    "wind[['wspd':'wdir']]"
   ]
  },
  {
   "cell_type": "markdown",
   "metadata": {},
   "source": [
    "Vaya lío, ¿no?"
   ]
  },
  {
   "cell_type": "markdown",
   "metadata": {},
   "source": [
    "## Indexación avanzada"
   ]
  },
  {
   "cell_type": "markdown",
   "metadata": {},
   "source": [
    "Para realizar una indexación más avanzada y menos ambigua disponemos de una serie de métodos:\n",
    "\n",
    "* `loc`: está pensado para basar nuestra indexación en las etiquetas (aunque puede aceptar arrays booleanos).\n",
    "\n",
    "* `iloc`: esta opción se basa en usar las posiciones mediante enteros (como si fuera un numpy array).\n",
    "\n",
    "* `ix`: soporta combinar las dos anteriores.\n",
    "\n",
    "Estos métodos también están disponibles en las `Series` pero no serían necesarios ya que la indexación en las `Series` no debe resultar ambigua.\n",
    "\n",
    "Veamos como funcionan estos métodos en un `DataFrame`..."
   ]
  },
  {
   "cell_type": "markdown",
   "metadata": {},
   "source": [
    "Seleccionamos los primeros tres elementos de las dos primeras columnas ('wspd', 'wspd_max'):"
   ]
  },
  {
   "cell_type": "code",
   "execution_count": null,
   "metadata": {
    "collapsed": false
   },
   "outputs": [],
   "source": [
    "wind.loc['2013-09-04 00:00:00':'2013-09-04 00:20:00', 'wspd':'wspd_max']"
   ]
  },
  {
   "cell_type": "code",
   "execution_count": null,
   "metadata": {
    "collapsed": false
   },
   "outputs": [],
   "source": [
    "wind.iloc[0:3, 0:2] # similar a indexación con numpy arrays wind.values[0:3, 0:2]"
   ]
  },
  {
   "cell_type": "code",
   "execution_count": null,
   "metadata": {
    "collapsed": false
   },
   "outputs": [],
   "source": [
    "wind.ix[0:3, 'wspd':'wspd_max']"
   ]
  },
  {
   "cell_type": "markdown",
   "metadata": {},
   "source": [
    "Una cuarta forma que no hemos visto hasta ahora de forma deliberada:"
   ]
  },
  {
   "cell_type": "code",
   "execution_count": null,
   "metadata": {
    "collapsed": false
   },
   "outputs": [],
   "source": [
    "wind[0:3][['wspd', 'wspd_max']]"
   ]
  },
  {
   "cell_type": "code",
   "execution_count": null,
   "metadata": {
    "collapsed": false
   },
   "outputs": [],
   "source": [
    "wind[['wspd', 'wspd_max']][0:3]"
   ]
  },
  {
   "cell_type": "markdown",
   "metadata": {},
   "source": [
    "# Practiquemos un poco todo esto\n",
    "\n",
    "1. Devolved todos los datos de enero de 2014\n",
    "\n",
    "2. Calculad la velocidad media de febrero de 2014\n",
    "\n",
    "3. Usad el método `query` para obtener todas las velocidades que provienen del norte (en un rango de $\\pm$ 10 º considerando el norte orientado a 0º) y cuya velocidad sea superior a 10 m/s\n",
    "\n",
    "4. Lo mismo que el punto anterior pero usando la notación booleana típica de numpy\n",
    "\n",
    "5. Todo lo anterior lo podéis hacer usando `loc`, `iloc` y/o `ix`. Practicad con las tres posibilidades."
   ]
  },
  {
   "cell_type": "code",
   "execution_count": null,
   "metadata": {
    "collapsed": true
   },
   "outputs": [],
   "source": []
  },
  {
   "cell_type": "markdown",
   "metadata": {},
   "source": [
    "# Una última curiosidad útil si trabajamos con series temporales\n",
    "\n",
    "Las estructuras de datos de pandas disponen de un método para seleccionar entre horas:"
   ]
  },
  {
   "cell_type": "code",
   "execution_count": null,
   "metadata": {
    "collapsed": false
   },
   "outputs": [],
   "source": [
    "wind.between_time('00:00', '00:30').head(20)"
   ]
  },
  {
   "cell_type": "code",
   "execution_count": null,
   "metadata": {
    "collapsed": false
   },
   "outputs": [],
   "source": [
    "# También funciona en series:\n",
    "wind['wspd'].between_time('00:00', '00:30').head(20)"
   ]
  }
 ],
 "metadata": {
  "kernelspec": {
   "display_name": "Python 3",
   "language": "python",
   "name": "python3"
  },
  "language_info": {
   "codemirror_mode": {
    "name": "ipython",
    "version": 3
   },
   "file_extension": ".py",
   "mimetype": "text/x-python",
   "name": "python",
   "nbconvert_exporter": "python",
   "pygments_lexer": "ipython3",
   "version": "3.5.1"
  }
 },
 "nbformat": 4,
 "nbformat_minor": 0
}
