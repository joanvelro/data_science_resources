{
 "cells": [
  {
   "cell_type": "markdown",
   "metadata": {},
   "source": [
    "En `pandas` tenemos varias posibilidades para leer datos y similares posibilidades para escribirlos."
   ]
  },
  {
   "cell_type": "markdown",
   "metadata": {},
   "source": [
    "# Leamos unos datos de viento"
   ]
  },
  {
   "cell_type": "markdown",
   "metadata": {},
   "source": [
    "En la carpeta *Datos* tenemos un fichero que se llama *mast.txt* con el siguiente formato:"
   ]
  },
  {
   "cell_type": "markdown",
   "metadata": {},
   "source": [
    "    130904 0000  2.21  2.58 113.5   999.99 999.99  99.99 9999.99 9999.99  0.11\n",
    "    130904 0010  1.69  2.31  99.9   999.99 999.99  99.99 9999.99 9999.99  0.35\n",
    "    130904 0020  1.28  1.50  96.0   999.99 999.99  99.99 9999.99 9999.99  0.08\n",
    "    130904 0030  1.94  2.39  99.2   999.99 999.99  99.99 9999.99 9999.99  0.26\n",
    "    130904 0040  2.17  2.67 108.4   999.99 999.99  99.99 9999.99 9999.99  0.23\n",
    "    130904 0050  2.25  2.89 105.0   999.99 999.99  99.99 9999.99 9999.99  0.35\n",
    "    ...\n",
    "\n",
    "Lo podemos leer de la siguiente forma:"
   ]
  },
  {
   "cell_type": "code",
   "execution_count": null,
   "metadata": {
    "collapsed": false
   },
   "outputs": [],
   "source": [
    "# primero hacemos los imports de turno\n",
    "import os\n",
    "import datetime as dt\n",
    "\n",
    "import pandas as pd\n",
    "import numpy as np\n",
    "import matplotlib.pyplot as plt\n",
    "from IPython.display import display\n",
    "\n",
    "np.random.seed(19760812)\n",
    "%matplotlib inline"
   ]
  },
  {
   "cell_type": "code",
   "execution_count": null,
   "metadata": {
    "collapsed": false
   },
   "outputs": [],
   "source": [
    "ipath = os.path.join('Datos', 'mast.txt')\n",
    "wind = pd.read_csv(ipath)\n",
    "wind.head(3)"
   ]
  },
  {
   "cell_type": "code",
   "execution_count": null,
   "metadata": {
    "collapsed": false
   },
   "outputs": [],
   "source": [
    "wind = pd.read_csv(ipath, sep = \"\\s*\")\n",
    "# Cuando trabajamos con texto separado por espacios podemos usar la keyword delim_whitespace:\n",
    "# wind = pd.read_csv(path, delim_whitespace = True)\n",
    "wind.head(3)"
   ]
  },
  {
   "cell_type": "code",
   "execution_count": null,
   "metadata": {
    "collapsed": false
   },
   "outputs": [],
   "source": [
    "cols = ['Date', 'time', 'wspd', 'wspd_max', 'wdir',\n",
    "        'x1', 'x2', 'x3', 'x4', 'x5', \n",
    "        'wspd_std']\n",
    "wind = pd.read_csv(ipath, sep = \"\\s*\", names = cols)\n",
    "wind.head(3)"
   ]
  },
  {
   "cell_type": "code",
   "execution_count": null,
   "metadata": {
    "collapsed": false
   },
   "outputs": [],
   "source": [
    "cols = ['Date', 'time', 'wspd', 'wspd_max', 'wdir',\n",
    "        'x1', 'x2', 'x3', 'x4', 'x5', \n",
    "        'wspd_std']\n",
    "wind = pd.read_csv(ipath, sep = \"\\s*\", names = cols,\n",
    "                   parse_dates = [[0, 1]])\n",
    "wind.head(3)"
   ]
  },
  {
   "cell_type": "markdown",
   "metadata": {},
   "source": [
    "<div class=\"alert alert-danger\">\n",
    "<p>Dependiendo de tu sistema operativo puede que las fechas sean las correctas o no. Ahora no te preocupes de ellos. Más adelante lidiaremos con ello</p>\n",
    "</div>"
   ]
  },
  {
   "cell_type": "code",
   "execution_count": null,
   "metadata": {
    "collapsed": false
   },
   "outputs": [],
   "source": [
    "cols = ['Date', 'time', 'wspd', 'wspd_max', 'wdir',\n",
    "        'x1', 'x2', 'x3', 'x4', 'x5', \n",
    "        'wspd_std']\n",
    "wind = pd.read_csv(ipath, sep = \"\\s*\", names = cols,\n",
    "                   parse_dates = [[0, 1]], index_col = 0)\n",
    "wind.head(3)"
   ]
  },
  {
   "cell_type": "code",
   "execution_count": null,
   "metadata": {
    "collapsed": false
   },
   "outputs": [],
   "source": [
    "cols = ['Date', 'time', 'wspd', 'wspd_max', 'wdir',\n",
    "        'x1', 'x2', 'x3', 'x4', 'x5', \n",
    "        'wspd_std']\n",
    "wind = pd.read_csv(ipath, sep = \"\\s*\", names = cols,\n",
    "                   parse_dates = {'timestamp': [0, 1]}, index_col = 0)\n",
    "wind.head(3)"
   ]
  },
  {
   "cell_type": "code",
   "execution_count": null,
   "metadata": {
    "collapsed": false
   },
   "outputs": [],
   "source": [
    "# The previous code is equivalent to\n",
    "cols = ['Date', 'time', 'wspd', 'wspd_max', 'wdir',\n",
    "        'x1', 'x2', 'x3', 'x4', 'x5', \n",
    "        'wspd_std']\n",
    "wind = pd.read_csv(ipath, sep = \"\\s*\", names = cols,\n",
    "                   parse_dates = [[0, 1]], index_col = 0)\n",
    "wind.index.name = 'Timestamp'\n",
    "wind.head(3)"
   ]
  },
  {
   "cell_type": "code",
   "execution_count": null,
   "metadata": {
    "collapsed": true
   },
   "outputs": [],
   "source": [
    "# En la anterior celda de código podemos cambiar los 0's y 1's de \n",
    "# parse_dates e index_col por los nombres de las columnas\n",
    "# Probadlo!!!\n"
   ]
  },
  {
   "cell_type": "code",
   "execution_count": null,
   "metadata": {
    "collapsed": false
   },
   "outputs": [],
   "source": [
    "help(pd.read_csv)"
   ]
  },
  {
   "cell_type": "markdown",
   "metadata": {},
   "source": [
    "Con unas pocas líneas de código hemos conseguido leer un fichero de datos separado por espacios, hemos conseguido leer dos columnas y transformarlas a fechas (de forma mágica), hemos conseguido indicar que esas fechas se consideren el índice (solo puede haber un registro en cada momento),...\n",
    "\n",
    "# ¡¡Warning!! índices repetidos\n",
    "\n",
    "<br>\n",
    "<div class=\"alert alert-danger\">\n",
    "<h3>Nota:</h3>\n",
    "<p>Nada impide tener dos índices repetidos. Tened cuidado con esto ya que puede ser una fuente de errores.</p>\n",
    "</div>"
   ]
  },
  {
   "cell_type": "code",
   "execution_count": null,
   "metadata": {
    "collapsed": false
   },
   "outputs": [],
   "source": [
    "tmp = pd.DataFrame([1,10,100, 1000], index = [1,1,2,2], columns = ['values'])"
   ]
  },
  {
   "cell_type": "code",
   "execution_count": null,
   "metadata": {
    "collapsed": false
   },
   "outputs": [],
   "source": [
    "tmp"
   ]
  },
  {
   "cell_type": "code",
   "execution_count": null,
   "metadata": {
    "collapsed": false
   },
   "outputs": [],
   "source": [
    "print(tmp['values'][1], tmp['values'][2], sep = '\\n')"
   ]
  },
  {
   "cell_type": "markdown",
   "metadata": {},
   "source": [
    "# ¡¡Warning!! cuando hagamos conversión de fechas desde *strings*\n",
    "\n",
    "<br>\n",
    "<div class=\"alert alert-danger\">\n",
    "<h3>Nota:</h3>\n",
    "<p>Si dejáis que pandas *parsee* las fechas escribid tests para ello pues puede haber errores en la conversión <b>automágica</b>.</p>\n",
    "</div>"
   ]
  },
  {
   "cell_type": "code",
   "execution_count": null,
   "metadata": {
    "collapsed": false
   },
   "outputs": [],
   "source": [
    "# Ejemplo de error en fechas:\n",
    "\n",
    "index = [\n",
    "    '01/01/2015 00:00',\n",
    "    '02/01/2015 00:00',\n",
    "    '03/01/2015 00:00',\n",
    "    '04/01/2015 00:00',\n",
    "    '05/01/2015 00:00',\n",
    "    '06/01/2015 00:00',\n",
    "    '07/01/2015 00:00',\n",
    "    '08/01/2015 00:00',\n",
    "    '09/01/2015 00:00',\n",
    "    '10/01/2015 00:00',\n",
    "    '11/01/2015 00:00',\n",
    "    '12/01/2015 00:00',\n",
    "    '13/01/2015 00:00',\n",
    "    '14/01/2015 00:00',\n",
    "    '15/01/2015 00:00'\n",
    "]\n",
    "values = np.random.randn(len(index))\n",
    "\n",
    "tmp = pd.DataFrame(values, index = pd.to_datetime(index), columns = ['col1'])"
   ]
  },
  {
   "cell_type": "code",
   "execution_count": null,
   "metadata": {
    "collapsed": false
   },
   "outputs": [],
   "source": [
    "display(tmp)\n",
    "tmp.plot.line(figsize = (12, 6))"
   ]
  },
  {
   "cell_type": "markdown",
   "metadata": {},
   "source": [
    "Para evitar lo anterior podemos crear nuestro propio parser de fechas a, por ejemplo, `pd.read_csv`:"
   ]
  },
  {
   "cell_type": "code",
   "execution_count": null,
   "metadata": {
    "collapsed": false
   },
   "outputs": [],
   "source": [
    "import datetime as dt\n",
    "import io\n",
    "\n",
    "def dateparser(date):\n",
    "    date, time = date.split()\n",
    "    DD, MM, YY = date.split('/')\n",
    "    hh, mm = time.split(':')\n",
    "    return dt.datetime(int(YY), int(MM), int(DD), int(hh), int(mm))\n",
    "\n",
    "virtual_file = io.StringIO(\"\"\"01/01/2015 00:00, 1\n",
    "02/01/2015 00:00, 2\n",
    "03/01/2015 00:00, 3\n",
    "04/01/2015 00:00, 4\n",
    "05/01/2015 00:00, 5\n",
    "06/01/2015 00:00, 6\n",
    "07/01/2015 00:00, 7\n",
    "08/01/2015 00:00, 8\n",
    "09/01/2015 00:00, 9\n",
    "10/01/2015 00:00, 10\n",
    "11/01/2015 00:00, 11\n",
    "12/01/2015 00:00, 12\n",
    "13/01/2015 00:00, 13\n",
    "14/01/2015 00:00, 14\n",
    "15/01/2015 00:00, 15\n",
    "\"\"\")\n",
    "\n",
    "tmp_wrong = pd.read_csv(virtual_file, parse_dates = [0], index_col = 0, names = ['Date', 'values'])\n",
    "\n",
    "virtual_file = io.StringIO(\"\"\"01/01/2015 00:00, 1\n",
    "02/01/2015 00:00, 2\n",
    "03/01/2015 00:00, 3\n",
    "04/01/2015 00:00, 4\n",
    "05/01/2015 00:00, 5\n",
    "06/01/2015 00:00, 6\n",
    "07/01/2015 00:00, 7\n",
    "08/01/2015 00:00, 8\n",
    "09/01/2015 00:00, 9\n",
    "10/01/2015 00:00, 10\n",
    "11/01/2015 00:00, 11\n",
    "12/01/2015 00:00, 12\n",
    "13/01/2015 00:00, 13\n",
    "14/01/2015 00:00, 14\n",
    "15/01/2015 00:00, 15\n",
    "\"\"\")\n",
    "\n",
    "tmp_right = pd.read_csv(virtual_file, parse_dates = True, index_col = 0, names = ['Date', 'values'],\n",
    "                        date_parser = dateparser)"
   ]
  },
  {
   "cell_type": "code",
   "execution_count": null,
   "metadata": {
    "collapsed": false
   },
   "outputs": [],
   "source": [
    "display(tmp_wrong)\n",
    "display(tmp_right)"
   ]
  },
  {
   "cell_type": "markdown",
   "metadata": {},
   "source": [
    "# Vamos a salvar el resultado en formato csv"
   ]
  },
  {
   "cell_type": "code",
   "execution_count": null,
   "metadata": {
    "collapsed": true
   },
   "outputs": [],
   "source": [
    "opath = os.path.join('Datos', 'mast_2.csv')\n",
    "#wind.to_csv(opath)\n",
    "wind.iloc[0:100].to_csv(opath)"
   ]
  },
  {
   "cell_type": "markdown",
   "metadata": {},
   "source": [
    "# ... o en formato json"
   ]
  },
  {
   "cell_type": "code",
   "execution_count": null,
   "metadata": {
    "collapsed": true
   },
   "outputs": [],
   "source": [
    "#wind.to_json(opath.replace('csv', 'json'))\n",
    "wind.iloc[0:100].to_json(opath.replace('csv', 'json'))"
   ]
  },
  {
   "cell_type": "markdown",
   "metadata": {},
   "source": [
    "# ... o en una tabla HTML"
   ]
  },
  {
   "cell_type": "code",
   "execution_count": null,
   "metadata": {
    "collapsed": false
   },
   "outputs": [],
   "source": [
    "# Si son muchos datos no os lo recomiendo, es lento\n",
    "#wind.to_html(opath.replace('csv', 'html'))\n",
    "wind.iloc[0:100].to_html(opath.replace('csv', 'html'))"
   ]
  },
  {
   "cell_type": "markdown",
   "metadata": {},
   "source": [
    "# ... o en formato xlsx\n",
    "\n",
    "Seguramente debáis instalar `xlsxwriter`, `openpyxl`, `wlrd/xlwt`,..."
   ]
  },
  {
   "cell_type": "code",
   "execution_count": null,
   "metadata": {
    "collapsed": false
   },
   "outputs": [],
   "source": [
    "writer = pd.ExcelWriter(opath.replace('csv', 'xlsx'))\n",
    "#wind.to_excel(writer, sheet_name= \"Mi hoja 1\")\n",
    "wind.iloc[0:100].to_excel(writer, sheet_name= \"Mi hoja 1\")\n",
    "writer.save()"
   ]
  },
  {
   "cell_type": "code",
   "execution_count": null,
   "metadata": {
    "collapsed": true
   },
   "outputs": [],
   "source": [
    "# Ahora que tenemos los ficheros en formato json, html, xlsx,..., podéis practicar a abrirlos con las\n",
    "# funciones pd.read_*\n"
   ]
  }
 ],
 "metadata": {
  "kernelspec": {
   "display_name": "Python 3",
   "language": "python",
   "name": "python3"
  },
  "language_info": {
   "codemirror_mode": {
    "name": "ipython",
    "version": 3
   },
   "file_extension": ".py",
   "mimetype": "text/x-python",
   "name": "python",
   "nbconvert_exporter": "python",
   "pygments_lexer": "ipython3",
   "version": "3.5.1"
  }
 },
 "nbformat": 4,
 "nbformat_minor": 0
}
