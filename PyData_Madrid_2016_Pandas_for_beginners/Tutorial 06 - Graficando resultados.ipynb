{
 "cells": [
  {
   "cell_type": "markdown",
   "metadata": {},
   "source": [
    "Nuevamente, vamos a leer primero unos datos..."
   ]
  },
  {
   "cell_type": "code",
   "execution_count": null,
   "metadata": {
    "collapsed": true
   },
   "outputs": [],
   "source": [
    "# primero hacemos los imports de turno\n",
    "import os\n",
    "import datetime as dt\n",
    "\n",
    "import pandas as pd\n",
    "import numpy as np\n",
    "import matplotlib.pyplot as plt\n",
    "from IPython.display import display\n",
    "\n",
    "np.random.seed(19760812)\n",
    "plt.style.use('bmh')\n",
    "%matplotlib inline"
   ]
  },
  {
   "cell_type": "markdown",
   "metadata": {},
   "source": [
    "# Lectura de un fichero de datos"
   ]
  },
  {
   "cell_type": "code",
   "execution_count": null,
   "metadata": {
    "collapsed": false
   },
   "outputs": [],
   "source": [
    "# Leemos los datos del fichero 'mast.txt'\n",
    "ipath = os.path.join('Datos', 'mast.txt')\n",
    "\n",
    "def dateparse(date, time):\n",
    "    YY = 2000 + int(date[:2])\n",
    "    MM = int(date[2:4])\n",
    "    DD = int(date[4:])\n",
    "    hh = int(time[:2])\n",
    "    mm = int(time[2:])\n",
    "    \n",
    "    return dt.datetime(YY, MM, DD, hh, mm, 0)\n",
    "    \n",
    "\n",
    "cols = ['Date', 'time', 'wspd', 'wspd_max', 'wdir',\n",
    "        'x1', 'x2', 'x3', 'x4', 'x5', \n",
    "        'wspd_std']\n",
    "wind = pd.read_csv(ipath, sep = \"\\s*\", names = cols, \n",
    "                   parse_dates = {'Timestamp': [0, 1]}, index_col = 0,\n",
    "                   date_parser = dateparse)"
   ]
  },
  {
   "cell_type": "markdown",
   "metadata": {},
   "source": [
    "# Lectura de un segundo fichero de datos"
   ]
  },
  {
   "cell_type": "code",
   "execution_count": null,
   "metadata": {
    "collapsed": false
   },
   "outputs": [],
   "source": [
    "# Leemos los datos del fichero 'model.txt'\n",
    "ipath = os.path.join('Datos', 'model.txt')\n",
    "\n",
    "model = pd.read_csv(ipath, sep = \"\\s*\", skiprows = 3,\n",
    "                    parse_dates = {'Timestamp': [0, 1]}, index_col = 'Timestamp')"
   ]
  },
  {
   "cell_type": "code",
   "execution_count": null,
   "metadata": {
    "collapsed": false
   },
   "outputs": [],
   "source": [
    "for c in ['x1','x2','x3','x4','x5']: # Eliminamos unas columnas innecesarias\n",
    "    _ = wind.pop(c)\n",
    "wind.head(3)"
   ]
  },
  {
   "cell_type": "code",
   "execution_count": null,
   "metadata": {
    "collapsed": false
   },
   "outputs": [],
   "source": [
    "model.head(3)"
   ]
  },
  {
   "cell_type": "code",
   "execution_count": null,
   "metadata": {
    "collapsed": false
   },
   "outputs": [],
   "source": [
    "wind['Timestamp'] = wind.index\n",
    "print(wind['Timestamp'].diff().min())\n",
    "del wind['Timestamp']"
   ]
  },
  {
   "cell_type": "code",
   "execution_count": null,
   "metadata": {
    "collapsed": false
   },
   "outputs": [],
   "source": [
    "model['Timestamp'] = model.index\n",
    "print(model['Timestamp'].diff().min())\n",
    "del model['Timestamp']"
   ]
  },
  {
   "cell_type": "markdown",
   "metadata": {},
   "source": [
    "# `plot` es la *bala de plata*"
   ]
  },
  {
   "cell_type": "code",
   "execution_count": null,
   "metadata": {
    "collapsed": false
   },
   "outputs": [],
   "source": [
    "wind.loc[:, 'wspd':'wspd_max'].plot(figsize = (15, 6))"
   ]
  },
  {
   "cell_type": "code",
   "execution_count": null,
   "metadata": {
    "collapsed": false
   },
   "outputs": [],
   "source": [
    "wind.loc['2014/01/01 00:00': '2014/01/01 02:00', 'wspd':'wspd_max'].plot(kind = 'bar', figsize = (15, 6))"
   ]
  },
  {
   "cell_type": "code",
   "execution_count": null,
   "metadata": {
    "collapsed": false
   },
   "outputs": [],
   "source": [
    "wind.loc['2014/01/01': '2014/12/31', 'wspd':'wspd_max'].plot(\n",
    "    kind = 'scatter', \n",
    "    x = 'wspd',\n",
    "    y = 'wspd_max',\n",
    "    figsize = (15, 6)\n",
    ")"
   ]
  },
  {
   "cell_type": "code",
   "execution_count": null,
   "metadata": {
    "collapsed": false
   },
   "outputs": [],
   "source": [
    "wind.loc['2014/01/01': '2014/12/31', 'wspd':'wspd_max'].plot(\n",
    "    kind = 'scatter', \n",
    "    x = 'wspd',\n",
    "    y = 'wspd_max',\n",
    "    figsize = (15, 6),\n",
    "    xlim = (0, 32),\n",
    "    ylim = (0, 40)\n",
    ")"
   ]
  },
  {
   "cell_type": "code",
   "execution_count": null,
   "metadata": {
    "collapsed": false
   },
   "outputs": [],
   "source": [
    "wind.loc['2014/01/01 00:00': '2014/01/01 02:00', 'wspd':'wspd_max'].plot(\n",
    "    kind = 'bar', \n",
    "    figsize = (15, 6),\n",
    "    subplots = True\n",
    ")"
   ]
  },
  {
   "cell_type": "markdown",
   "metadata": {},
   "source": [
    "Otra forma de hacerlo, `plot` nos provee además de una API para separar los tipos de gráfico:"
   ]
  },
  {
   "cell_type": "code",
   "execution_count": null,
   "metadata": {
    "collapsed": false
   },
   "outputs": [],
   "source": [
    "s1 = wind.loc['2014/01/01': '2014/01/05', 'wspd']\n",
    "s2 = s1.rolling(13, center = True).mean()\n",
    "tmp = pd.DataFrame({'wspd': s1, 'mov_avg': s2})\n",
    "tmp.plot.line(figsize = (15, 6))"
   ]
  },
  {
   "cell_type": "markdown",
   "metadata": {},
   "source": [
    "Pero que pasa si quiero resaltar la línea que corresponde a `'mov_avg'`. Lo podemos hacer de la siguiente forma:"
   ]
  },
  {
   "cell_type": "code",
   "execution_count": null,
   "metadata": {
    "collapsed": false
   },
   "outputs": [],
   "source": [
    "ax = tmp['wspd'].plot.line(figsize = (15, 6))\n",
    "tmp['mov_avg'].plot.line(figsize = (15, 6), lw = 5, ax = ax)"
   ]
  },
  {
   "cell_type": "markdown",
   "metadata": {},
   "source": [
    "Otros tipos de gráficos:"
   ]
  },
  {
   "cell_type": "code",
   "execution_count": null,
   "metadata": {
    "collapsed": false
   },
   "outputs": [],
   "source": [
    "possible = dir(pd.DataFrame.plot)\n",
    "for p in possible:\n",
    "    if '_' not in p: print(p)"
   ]
  },
  {
   "cell_type": "markdown",
   "metadata": {},
   "source": [
    "Veamos, por ejemplo, el histograma de viento:"
   ]
  },
  {
   "cell_type": "code",
   "execution_count": null,
   "metadata": {
    "collapsed": false
   },
   "outputs": [],
   "source": [
    "wind['wspd'].plot.hist(bins = np.arange(0, 50), figsize = (15, 6))"
   ]
  },
  {
   "cell_type": "markdown",
   "metadata": {},
   "source": [
    "Además, tenemos un submódulo llamado `plotting` con herramientas de visualización un poco más avanzadas."
   ]
  },
  {
   "cell_type": "code",
   "execution_count": null,
   "metadata": {
    "collapsed": false
   },
   "outputs": [],
   "source": [
    "pd.tools.plotting.scatter_matrix(\n",
    "    wind.iloc[0:1000, :], \n",
    "    diagonal = 'kde',\n",
    "    figsize = (12, 12)\n",
    ")"
   ]
  },
  {
   "cell_type": "code",
   "execution_count": null,
   "metadata": {
    "collapsed": true
   },
   "outputs": [],
   "source": [
    "# Realizad vuestros propios gráficos con tipos de gráficos diferentes a los que hemos visto\n"
   ]
  }
 ],
 "metadata": {
  "kernelspec": {
   "display_name": "Python 3",
   "language": "python",
   "name": "python3"
  },
  "language_info": {
   "codemirror_mode": {
    "name": "ipython",
    "version": 3
   },
   "file_extension": ".py",
   "mimetype": "text/x-python",
   "name": "python",
   "nbconvert_exporter": "python",
   "pygments_lexer": "ipython3",
   "version": "3.5.1"
  }
 },
 "nbformat": 4,
 "nbformat_minor": 0
}
