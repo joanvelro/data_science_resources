{
 "cells": [
  {
   "cell_type": "markdown",
   "metadata": {},
   "source": [
    "# ¿Necesitas `pandas`?"
   ]
  },
  {
   "cell_type": "markdown",
   "metadata": {},
   "source": [
    "* ¿Necesitas importar datos a Python?\n",
    "\n",
    "\n",
    "* ¿Los datos no están limpios?\n",
    "\n",
    "\n",
    "* ¿Necesitas explorar los datos y aumentar tu conocimiento sobre los mismos de forma rápida y simple?\n",
    "\n",
    "\n",
    "* ¿Necesitas procesar tus datos y prepararlos para análisis posteriores con statsmodels, scikit-learn,..., otros?\n",
    "\n",
    "\n",
    "* ¿...?"
   ]
  },
  {
   "cell_type": "markdown",
   "metadata": {},
   "source": [
    "## Si respondes afirmativamente a cualquiera de las anteriores preguntas y no tienes mucha idea sobre `pandas` estás en el sitio adecuado..."
   ]
  },
  {
   "cell_type": "markdown",
   "metadata": {},
   "source": [
    "# ¿Qué es `pandas`?"
   ]
  },
  {
   "cell_type": "markdown",
   "metadata": {},
   "source": [
    "Para cualquier trabajo intensivo de datos `pandas` se ha convertido en la librería esencial dentro del mundo Python.\n",
    "\n",
    "> Se podría ver a `pandas` como numpy arrays con esteroides, esto es, numpy arrays con etiquetas para columnas y filas y soporte mejorado para trabajo con datos heterogéneos.\n",
    "    \n",
    "Pero lo anterior es una definición un tanto superficial. El diablo está en los detalles!!!\n",
    "\n",
    "## Características interesantes:\n",
    "\n",
    "\n",
    "* Entrada/Salida para un montón de formatos de datos diferentes de forma rápida, simple y flexible (csv, json, sql, HDF5, HTML,...).\n",
    "\n",
    "\n",
    "* Herramientas para trabajar con datos *missing* (`.dropna()`, `pd.isnull()`).\n",
    "\n",
    "\n",
    "* Unión y combinación (`concat`, `join`, `merge`).\n",
    "\n",
    "\n",
    "* Agrupamiento: funcionalidad `groupby`.\n",
    "\n",
    "\n",
    "* Reshaping (`stack`, `unstack`, `pivot`, `pivot_table`).\n",
    "\n",
    "\n",
    "* Potente manipulación de series de datos (*resampling*, *timezones*, ...).\n",
    "\n",
    "\n",
    "* Graficado sencillo."
   ]
  },
  {
   "cell_type": "markdown",
   "metadata": {},
   "source": [
    "# ¿Qué vamos a ver?"
   ]
  },
  {
   "cell_type": "markdown",
   "metadata": {},
   "source": [
    "* Tipos de estructuras de datos con `pandas`.\n",
    "\n",
    "\n",
    "* Lectura/escritura de datos.\n",
    "\n",
    "\n",
    "* Obtener información de la estructura de datos, algunas operaciones estadísticas, establecimiento de los índices, trabajo con valores perdidos/no disponibles. Trabajo con fechas.\n",
    "\n",
    "\n",
    "* Selección e indexación de datos.\n",
    "\n",
    "\n",
    "* Trabajo con datos perdidos, no disponibles,...\n",
    "\n",
    "\n",
    "* Combinación, agrupamiento, agregación,...\n",
    "\n",
    "\n",
    "* Graficado de resultados."
   ]
  },
  {
   "cell_type": "markdown",
   "metadata": {},
   "source": [
    "------------------------------"
   ]
  },
  {
   "cell_type": "markdown",
   "metadata": {},
   "source": [
    "# Qué necesitamos para el tutorial"
   ]
  },
  {
   "cell_type": "code",
   "execution_count": null,
   "metadata": {
    "collapsed": true
   },
   "outputs": [],
   "source": [
    "# primero hacemos los imports de turno\n",
    "import os\n",
    "import datetime as dt\n",
    "import sys\n",
    "\n",
    "import pandas as pd\n",
    "import numpy as np\n",
    "import matplotlib.pyplot as plt\n",
    "import matplotlib as mpl\n",
    "from IPython.display import display\n",
    "\n",
    "np.random.seed(19760812)\n",
    "plt.style.use('bmh')\n",
    "%matplotlib inline"
   ]
  },
  {
   "cell_type": "code",
   "execution_count": null,
   "metadata": {
    "collapsed": false
   },
   "outputs": [],
   "source": [
    "print('Python version:')\n",
    "print(sys.version)\n",
    "print()\n",
    "print('Pandas: ', pd.__version__)\n",
    "print('Numpy: ', np.__version__)\n",
    "print('Matplotlib: ', mpl.__version__)"
   ]
  },
  {
   "cell_type": "markdown",
   "metadata": {},
   "source": [
    "---------------------------------------------------"
   ]
  },
  {
   "cell_type": "markdown",
   "metadata": {},
   "source": [
    "# Análisis preliminar de unos datos de viento\n",
    "\n",
    "Antes de ver nada sobre pandas vamos a hacer un pequeño análisis de unos datos de viento para que veamos algunas de las capacidades de la librería."
   ]
  },
  {
   "cell_type": "code",
   "execution_count": null,
   "metadata": {
    "collapsed": false
   },
   "outputs": [],
   "source": [
    "# Leemos los datos del fichero 'model.txt'\n",
    "ipath = os.path.join('Datos', 'model.txt')\n",
    "\n",
    "model = pd.read_csv(ipath, sep = \"\\s*\", skiprows = 3,\n",
    "                    parse_dates = {'Timestamp': [0, 1]}, index_col = 'Timestamp')"
   ]
  },
  {
   "cell_type": "code",
   "execution_count": null,
   "metadata": {
    "collapsed": false
   },
   "outputs": [],
   "source": [
    "model.head()"
   ]
  },
  {
   "cell_type": "code",
   "execution_count": null,
   "metadata": {
    "collapsed": false
   },
   "outputs": [],
   "source": [
    "pd.tools.plotting.scatter_matrix(model.ix[0:1000, 'M(m/s)':'D(deg)'])"
   ]
  },
  {
   "cell_type": "code",
   "execution_count": null,
   "metadata": {
    "collapsed": false
   },
   "outputs": [],
   "source": [
    "print(model.index[0], model.index[-1], sep = '\\n')"
   ]
  },
  {
   "cell_type": "code",
   "execution_count": null,
   "metadata": {
    "collapsed": false
   },
   "outputs": [],
   "source": [
    "model.mean()"
   ]
  },
  {
   "cell_type": "code",
   "execution_count": null,
   "metadata": {
    "collapsed": false
   },
   "outputs": [],
   "source": [
    "model.max()"
   ]
  },
  {
   "cell_type": "code",
   "execution_count": null,
   "metadata": {
    "collapsed": false
   },
   "outputs": [],
   "source": [
    "idx = model.loc[:, 'M(m/s)'].sort_values(ascending = False).index"
   ]
  },
  {
   "cell_type": "code",
   "execution_count": null,
   "metadata": {
    "collapsed": false
   },
   "outputs": [],
   "source": [
    "pd.tools.plotting.scatter_matrix(model.loc[idx[:1000], 'M(m/s)':'D(deg)'])"
   ]
  },
  {
   "cell_type": "code",
   "execution_count": null,
   "metadata": {
    "collapsed": false
   },
   "outputs": [],
   "source": [
    "model.loc[:, 'M(m/s)'].plot.hist(bins = np.arange(0, 35))"
   ]
  },
  {
   "cell_type": "code",
   "execution_count": null,
   "metadata": {
    "collapsed": true
   },
   "outputs": [],
   "source": [
    "model['month'] = model.index.month\n",
    "model['year'] = model.index.year"
   ]
  },
  {
   "cell_type": "code",
   "execution_count": null,
   "metadata": {
    "collapsed": false
   },
   "outputs": [],
   "source": [
    "model.groupby(by = ['year', 'month']).mean().plot(y = 'M(m/s)', figsize = (15, 5))"
   ]
  },
  {
   "cell_type": "code",
   "execution_count": null,
   "metadata": {
    "collapsed": false
   },
   "outputs": [],
   "source": [
    "monthly = model.groupby(by = ['year', 'month']).mean()\n",
    "monthly['ma'] = monthly.loc[:, 'M(m/s)'].rolling(5, center = True).mean()\n",
    "monthly.head()"
   ]
  },
  {
   "cell_type": "code",
   "execution_count": null,
   "metadata": {
    "collapsed": false
   },
   "outputs": [],
   "source": [
    "monthly.loc[:,['M(m/s)', 'ma']].plot(figsize = (15, 6))"
   ]
  },
  {
   "cell_type": "code",
   "execution_count": null,
   "metadata": {
    "collapsed": false
   },
   "outputs": [],
   "source": [
    "monthly.loc[:, 'M(m/s)'].reset_index().pivot(index = 'year', columns = 'month')"
   ]
  },
  {
   "cell_type": "code",
   "execution_count": null,
   "metadata": {
    "collapsed": false
   },
   "outputs": [],
   "source": [
    "(monthly.loc[:, 'M(m/s)'].reset_index().pivot(\n",
    "    index = 'year', \n",
    "        columns = 'month'\n",
    "    ).T.plot(\n",
    "        figsize = (15, 10), \n",
    "        legend = False\n",
    "    )\n",
    " )"
   ]
  }
 ],
 "metadata": {
  "kernelspec": {
   "display_name": "Python 3",
   "language": "python",
   "name": "python3"
  },
  "language_info": {
   "codemirror_mode": {
    "name": "ipython",
    "version": 3
   },
   "file_extension": ".py",
   "mimetype": "text/x-python",
   "name": "python",
   "nbconvert_exporter": "python",
   "pygments_lexer": "ipython3",
   "version": "3.5.1"
  }
 },
 "nbformat": 4,
 "nbformat_minor": 0
}
